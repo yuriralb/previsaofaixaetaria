{
 "cells": [
  {
   "cell_type": "code",
   "execution_count": 1,
   "id": "0e7d9e28-0805-4de5-a803-2b9503efbd35",
   "metadata": {},
   "outputs": [],
   "source": [
    "import os\n",
    "import numpy as np\n",
    "#from PIL import Image\n",
    "from sklearn.model_selection import train_test_split\n",
    "from sklearn.decomposition import PCA\n",
    "from sklearn.linear_model import LogisticRegression\n",
    "from sklearn.metrics import classification_report, confusion_matrix, accuracy_score\n",
    "import matplotlib.pyplot as plt\n",
    "import cv2\n",
    "#from sklearn.preprocessing import StandardScaler"
   ]
  },
  {
   "cell_type": "code",
   "execution_count": 2,
   "id": "857fb17e-6e9e-4d07-858e-a008806c2877",
   "metadata": {},
   "outputs": [],
   "source": [
    "#Configurações usadas no código\n",
    "\n",
    "IMG_SIZE = (64, 64)  #padrão: (128, 128)\n",
    "\n",
    "#Categorias servirá para atribuir labels às fotos\n",
    "CATEGORIAS = { \n",
    "    \"0-12_infantil\": 0,\n",
    "    \"13-17_adolescente\": 1,\n",
    "    \"18-64_adulto\": 2,\n",
    "    \"65+_idoso\": 3\n",
    "}\n",
    "\n",
    "#Categorias_resumidas servirá para impressão da predição, no fim do código\n",
    "CATEGORIAS_RESUMIDAS = {\n",
    "    \"0-12_infantil\": 'Criança',\n",
    "    \"13-17_adolescente\": 'Adolescente',\n",
    "    \"18-64_adulto\": 'Adulto',\n",
    "    \"65+_idoso\": 'Idoso'\n",
    "}"
   ]
  },
  {
   "cell_type": "code",
   "execution_count": 3,
   "id": "47bbad23-84db-4c4d-a789-cfe1b07caf11",
   "metadata": {},
   "outputs": [],
   "source": [
    "#Caminho das pastas das fotos\n",
    "BASE_DIR = \"dados_teste_full/\""
   ]
  },
  {
   "cell_type": "code",
   "execution_count": 35,
   "id": "8bb0aa42-d775-48bf-8298-368377a9c111",
   "metadata": {},
   "outputs": [],
   "source": [
    "#Função que aplica o filtro nas fotos\n",
    "def realca_borda(img, img_size):\n",
    "    #Redimensionar e tonar preto e bracnco\n",
    "    img = cv2.resize(img, img_size)\n",
    "    img = cv2.cvtColor(img, cv2.COLOR_BGR2GRAY)\n",
    "\n",
    "    #Suavização\n",
    "    img = cv2.GaussianBlur(img, (3, 3), 0) #3,3\n",
    "\n",
    "    #Contraste\n",
    "    img = cv2.equalizeHist(img)\n",
    "\n",
    "    # Detecção de bordas\n",
    "    #img = cv2.Canny(img, 125, 175)\n",
    "\n",
    "    return img"
   ]
  },
  {
   "cell_type": "code",
   "execution_count": 36,
   "id": "58d0f421-7e7d-4348-881c-8e1273616e0f",
   "metadata": {},
   "outputs": [],
   "source": [
    "#Reconstrução da imagema através da redução feita pelo PCA\n",
    "def reconstroi_imagem(autov, img, img_size):\n",
    "    imagem_aprox = img @ autov.T\n",
    "    mostra_imagem(np.reshape(imagem_aprox, img_size))"
   ]
  },
  {
   "cell_type": "code",
   "execution_count": 37,
   "id": "d529d15c-4766-4062-9736-bdafd8c453c1",
   "metadata": {},
   "outputs": [],
   "source": [
    "#Imprimir a imagem na tela\n",
    "def mostra_imagem(img):\n",
    "    plt.imshow(img, cmap='gray') \n",
    "    plt.axis('off')  #Remove os eixos\n",
    "    plt.show()"
   ]
  },
  {
   "cell_type": "code",
   "execution_count": 38,
   "id": "5615906f-6f5a-431f-9f07-b6eb11207f25",
   "metadata": {},
   "outputs": [],
   "source": [
    "#Grava cada imagem na matriz, aplicando filtros e linearizando as imagens\n",
    "def carregar_dados(base_dir, categorias, img_size):\n",
    "    imagens = []\n",
    "    labels = []\n",
    "    for categoria, label in categorias.items():\n",
    "        pasta = os.path.join(base_dir, categoria)\n",
    "        for arquivo in os.listdir(pasta):\n",
    "            caminho_imagem = os.path.join(pasta, arquivo)\n",
    "            try:\n",
    "                # Carregar imagem, converter para escala de cinza e redimensionar\n",
    "                img = realca_borda(cv2.imread(caminho_imagem), IMG_SIZE) #Image.open(caminho_imagem).convert('L').resize(img_size)\n",
    "                imagens.append(np.array(img).flatten())  # Achatar a imagem em um vetor\n",
    "                labels.append(label)\n",
    "            except Exception as e:\n",
    "                print(f\"Erro ao carregar imagem {caminho_imagem}: {e}\")\n",
    "    return np.array(imagens), np.array(labels)"
   ]
  },
  {
   "cell_type": "code",
   "execution_count": 45,
   "id": "e98d0612-52e9-478d-acae-07a949266d05",
   "metadata": {},
   "outputs": [],
   "source": [
    "#carregar imagens na matriz e normalização\n",
    "imagens, labels = carregar_dados(BASE_DIR, CATEGORIAS, IMG_SIZE)\n",
    "imagens = imagens / 255.0"
   ]
  },
  {
   "cell_type": "code",
   "execution_count": 46,
   "id": "77440130-88cd-405b-9f2b-d4217cd9fc31",
   "metadata": {},
   "outputs": [
    {
     "data": {
      "text/plain": [
       "(16627, 4096)"
      ]
     },
     "execution_count": 46,
     "metadata": {},
     "output_type": "execute_result"
    }
   ],
   "source": [
    "np.shape(imagens)"
   ]
  },
  {
   "cell_type": "code",
   "execution_count": 47,
   "id": "e017bb91-2349-4121-83a4-d5b7158b6c28",
   "metadata": {},
   "outputs": [],
   "source": [
    "#scaler = StandardScaler()\n",
    "#imagens = scaler.fit_transform(imagens)"
   ]
  },
  {
   "cell_type": "code",
   "execution_count": 48,
   "id": "047a9793-e3d5-4c7b-9a09-1e301e92cfe8",
   "metadata": {},
   "outputs": [],
   "source": [
    "img = imagens[5,:]"
   ]
  },
  {
   "cell_type": "code",
   "execution_count": 49,
   "id": "38592ca5-4611-41bb-8358-0d923c253e74",
   "metadata": {},
   "outputs": [],
   "source": [
    "img = np.reshape(img, IMG_SIZE)"
   ]
  },
  {
   "cell_type": "code",
   "execution_count": 50,
   "id": "c5d383a7-d56c-48d8-99f1-5143afcfd165",
   "metadata": {},
   "outputs": [
    {
     "data": {
      "image/png": "[encoded data removed]",
      "text/plain": [
       "<Figure size 640x480 with 1 Axes>"
      ]
     },
     "metadata": {},
     "output_type": "display_data"
    }
   ],
   "source": [
    "mostra_imagem(img)"
   ]
  },
  {
   "cell_type": "code",
   "execution_count": 51,
   "id": "7cc7e65e-5b29-404b-8674-7970708e96fa",
   "metadata": {},
   "outputs": [],
   "source": [
    "#Separação dos dados em treino e teste\n",
    "X_train, X_test, y_train, y_test = train_test_split(imagens, labels, test_size=0.25, random_state=42, stratify=labels)"
   ]
  },
  {
   "cell_type": "code",
   "execution_count": 52,
   "id": "b8f4ffc8-e4cf-45ab-8c4b-896c0a65fce9",
   "metadata": {},
   "outputs": [],
   "source": [
    "#mostra_imagem(np.reshape(X_test[500,:], (128,128)))"
   ]
  },
  {
   "cell_type": "code",
   "execution_count": 53,
   "id": "5401c891-1011-435d-bcc2-3c988de5fa6d",
   "metadata": {},
   "outputs": [],
   "source": [
    "#redução dos dados de forma a manter 98% da variância\n",
    "pca = PCA(n_components=0.98)  # 0.95 padrão\n",
    "X_train_pca = pca.fit_transform(X_train)\n",
    "X_test_pca = pca.transform(X_test)\n",
    "autovetores = pca.components_.T"
   ]
  },
  {
   "cell_type": "code",
   "execution_count": 54,
   "id": "5af36551-af33-49d8-b9fc-9f358632fe40",
   "metadata": {},
   "outputs": [
    {
     "name": "stdout",
     "output_type": "stream",
     "text": [
      "(12470, 4096)\n",
      "(12470, 316)\n",
      "(4096, 316)\n"
     ]
    }
   ],
   "source": [
    "print(np.shape(X_train))\n",
    "print(np.shape(X_train_pca))\n",
    "print(np.shape(autovetores))"
   ]
  },
  {
   "cell_type": "code",
   "execution_count": 56,
   "id": "25d20dad-3dd2-4eec-9f80-815aa9c1cfde",
   "metadata": {
    "scrolled": true
   },
   "outputs": [
    {
     "data": {
      "image/png": "[encoded data removed]",
      "text/plain": [
       "<Figure size 640x480 with 1 Axes>"
      ]
     },
     "metadata": {},
     "output_type": "display_data"
    },
    {
     "data": {
      "image/png": "[encoded data removed]",
      "text/plain": [
       "<Figure size 640x480 with 1 Axes>"
      ]
     },
     "metadata": {},
     "output_type": "display_data"
    }
   ],
   "source": [
    "#mostras as imagens reconstruídas\n",
    "\n",
    "matriz_aprox = X_train_pca @ autovetores.T\n",
    "mostra_imagem(np.reshape(X_train[657,:], IMG_SIZE))\n",
    "mostra_imagem(np.reshape(matriz_aprox[657,:], IMG_SIZE))"
   ]
  },
  {
   "cell_type": "code",
   "execution_count": 18,
   "id": "b2a10eeb-2364-4fd2-b5c6-9a839dd9c2e1",
   "metadata": {},
   "outputs": [
    {
     "data": {
      "text/html": [
       "<style>#sk-container-id-1 {\n",
       "  /* Definition of color scheme common for light and dark mode */\n",
       "  --sklearn-color-text: black;\n",
       "  --sklearn-color-line: gray;\n",
       "  /* Definition of color scheme for unfitted estimators */\n",
       "  --sklearn-color-unfitted-level-0: #fff5e6;\n",
       "  --sklearn-color-unfitted-level-1: #f6e4d2;\n",
       "  --sklearn-color-unfitted-level-2: #ffe0b3;\n",
       "  --sklearn-color-unfitted-level-3: chocolate;\n",
       "  /* Definition of color scheme for fitted estimators */\n",
       "  --sklearn-color-fitted-level-0: #f0f8ff;\n",
       "  --sklearn-color-fitted-level-1: #d4ebff;\n",
       "  --sklearn-color-fitted-level-2: #b3dbfd;\n",
       "  --sklearn-color-fitted-level-3: cornflowerblue;\n",
       "\n",
       "  /* Specific color for light theme */\n",
       "  --sklearn-color-text-on-default-background: var(--sg-text-color, var(--theme-code-foreground, var(--jp-content-font-color1, black)));\n",
       "  --sklearn-color-background: var(--sg-background-color, var(--theme-background, var(--jp-layout-color0, white)));\n",
       "  --sklearn-color-border-box: var(--sg-text-color, var(--theme-code-foreground, var(--jp-content-font-color1, black)));\n",
       "  --sklearn-color-icon: #696969;\n",
       "\n",
       "  @media (prefers-color-scheme: dark) {\n",
       "    /* Redefinition of color scheme for dark theme */\n",
       "    --sklearn-color-text-on-default-background: var(--sg-text-color, var(--theme-code-foreground, var(--jp-content-font-color1, white)));\n",
       "    --sklearn-color-background: var(--sg-background-color, var(--theme-background, var(--jp-layout-color0, #111)));\n",
       "    --sklearn-color-border-box: var(--sg-text-color, var(--theme-code-foreground, var(--jp-content-font-color1, white)));\n",
       "    --sklearn-color-icon: #878787;\n",
       "  }\n",
       "}\n",
       "\n",
       "#sk-container-id-1 {\n",
       "  color: var(--sklearn-color-text);\n",
       "}\n",
       "\n",
       "#sk-container-id-1 pre {\n",
       "  padding: 0;\n",
       "}\n",
       "\n",
       "#sk-container-id-1 input.sk-hidden--visually {\n",
       "  border: 0;\n",
       "  clip: rect(1px 1px 1px 1px);\n",
       "  clip: rect(1px, 1px, 1px, 1px);\n",
       "  height: 1px;\n",
       "  margin: -1px;\n",
       "  overflow: hidden;\n",
       "  padding: 0;\n",
       "  position: absolute;\n",
       "  width: 1px;\n",
       "}\n",
       "\n",
       "#sk-container-id-1 div.sk-dashed-wrapped {\n",
       "  border: 1px dashed var(--sklearn-color-line);\n",
       "  margin: 0 0.4em 0.5em 0.4em;\n",
       "  box-sizing: border-box;\n",
       "  padding-bottom: 0.4em;\n",
       "  background-color: var(--sklearn-color-background);\n",
       "}\n",
       "\n",
       "#sk-container-id-1 div.sk-container {\n",
       "  /* jupyter's `normalize.less` sets `[hidden] { display: none; }`\n",
       "     but bootstrap.min.css set `[hidden] { display: none !important; }`\n",
       "     so we also need the `!important` here to be able to override the\n",
       "     default hidden behavior on the sphinx rendered scikit-learn.org.\n",
       "     See: https://github.com/scikit-learn/scikit-learn/issues/21755 */\n",
       "  display: inline-block !important;\n",
       "  position: relative;\n",
       "}\n",
       "\n",
       "#sk-container-id-1 div.sk-text-repr-fallback {\n",
       "  display: none;\n",
       "}\n",
       "\n",
       "div.sk-parallel-item,\n",
       "div.sk-serial,\n",
       "div.sk-item {\n",
       "  /* draw centered vertical line to link estimators */\n",
       "  background-image: linear-gradient(var(--sklearn-color-text-on-default-background), var(--sklearn-color-text-on-default-background));\n",
       "  background-size: 2px 100%;\n",
       "  background-repeat: no-repeat;\n",
       "  background-position: center center;\n",
       "}\n",
       "\n",
       "/* Parallel-specific style estimator block */\n",
       "\n",
       "#sk-container-id-1 div.sk-parallel-item::after {\n",
       "  content: \"\";\n",
       "  width: 100%;\n",
       "  border-bottom: 2px solid var(--sklearn-color-text-on-default-background);\n",
       "  flex-grow: 1;\n",
       "}\n",
       "\n",
       "#sk-container-id-1 div.sk-parallel {\n",
       "  display: flex;\n",
       "  align-items: stretch;\n",
       "  justify-content: center;\n",
       "  background-color: var(--sklearn-color-background);\n",
       "  position: relative;\n",
       "}\n",
       "\n",
       "#sk-container-id-1 div.sk-parallel-item {\n",
       "  display: flex;\n",
       "  flex-direction: column;\n",
       "}\n",
       "\n",
       "#sk-container-id-1 div.sk-parallel-item:first-child::after {\n",
       "  align-self: flex-end;\n",
       "  width: 50%;\n",
       "}\n",
       "\n",
       "#sk-container-id-1 div.sk-parallel-item:last-child::after {\n",
       "  align-self: flex-start;\n",
       "  width: 50%;\n",
       "}\n",
       "\n",
       "#sk-container-id-1 div.sk-parallel-item:only-child::after {\n",
       "  width: 0;\n",
       "}\n",
       "\n",
       "/* Serial-specific style estimator block */\n",
       "\n",
       "#sk-container-id-1 div.sk-serial {\n",
       "  display: flex;\n",
       "  flex-direction: column;\n",
       "  align-items: center;\n",
       "  background-color: var(--sklearn-color-background);\n",
       "  padding-right: 1em;\n",
       "  padding-left: 1em;\n",
       "}\n",
       "\n",
       "\n",
       "/* Toggleable style: style used for estimator/Pipeline/ColumnTransformer box that is\n",
       "clickable and can be expanded/collapsed.\n",
       "- Pipeline and ColumnTransformer use this feature and define the default style\n",
       "- Estimators will overwrite some part of the style using the `sk-estimator` class\n",
       "*/\n",
       "\n",
       "/* Pipeline and ColumnTransformer style (default) */\n",
       "\n",
       "#sk-container-id-1 div.sk-toggleable {\n",
       "  /* Default theme specific background. It is overwritten whether we have a\n",
       "  specific estimator or a Pipeline/ColumnTransformer */\n",
       "  background-color: var(--sklearn-color-background);\n",
       "}\n",
       "\n",
       "/* Toggleable label */\n",
       "#sk-container-id-1 label.sk-toggleable__label {\n",
       "  cursor: pointer;\n",
       "  display: block;\n",
       "  width: 100%;\n",
       "  margin-bottom: 0;\n",
       "  padding: 0.5em;\n",
       "  box-sizing: border-box;\n",
       "  text-align: center;\n",
       "}\n",
       "\n",
       "#sk-container-id-1 label.sk-toggleable__label-arrow:before {\n",
       "  /* Arrow on the left of the label */\n",
       "  content: \"▸\";\n",
       "  float: left;\n",
       "  margin-right: 0.25em;\n",
       "  color: var(--sklearn-color-icon);\n",
       "}\n",
       "\n",
       "#sk-container-id-1 label.sk-toggleable__label-arrow:hover:before {\n",
       "  color: var(--sklearn-color-text);\n",
       "}\n",
       "\n",
       "/* Toggleable content - dropdown */\n",
       "\n",
       "#sk-container-id-1 div.sk-toggleable__content {\n",
       "  max-height: 0;\n",
       "  max-width: 0;\n",
       "  overflow: hidden;\n",
       "  text-align: left;\n",
       "  /* unfitted */\n",
       "  background-color: var(--sklearn-color-unfitted-level-0);\n",
       "}\n",
       "\n",
       "#sk-container-id-1 div.sk-toggleable__content.fitted {\n",
       "  /* fitted */\n",
       "  background-color: var(--sklearn-color-fitted-level-0);\n",
       "}\n",
       "\n",
       "#sk-container-id-1 div.sk-toggleable__content pre {\n",
       "  margin: 0.2em;\n",
       "  border-radius: 0.25em;\n",
       "  color: var(--sklearn-color-text);\n",
       "  /* unfitted */\n",
       "  background-color: var(--sklearn-color-unfitted-level-0);\n",
       "}\n",
       "\n",
       "#sk-container-id-1 div.sk-toggleable__content.fitted pre {\n",
       "  /* unfitted */\n",
       "  background-color: var(--sklearn-color-fitted-level-0);\n",
       "}\n",
       "\n",
       "#sk-container-id-1 input.sk-toggleable__control:checked~div.sk-toggleable__content {\n",
       "  /* Expand drop-down */\n",
       "  max-height: 200px;\n",
       "  max-width: 100%;\n",
       "  overflow: auto;\n",
       "}\n",
       "\n",
       "#sk-container-id-1 input.sk-toggleable__control:checked~label.sk-toggleable__label-arrow:before {\n",
       "  content: \"▾\";\n",
       "}\n",
       "\n",
       "/* Pipeline/ColumnTransformer-specific style */\n",
       "\n",
       "#sk-container-id-1 div.sk-label input.sk-toggleable__control:checked~label.sk-toggleable__label {\n",
       "  color: var(--sklearn-color-text);\n",
       "  background-color: var(--sklearn-color-unfitted-level-2);\n",
       "}\n",
       "\n",
       "#sk-container-id-1 div.sk-label.fitted input.sk-toggleable__control:checked~label.sk-toggleable__label {\n",
       "  background-color: var(--sklearn-color-fitted-level-2);\n",
       "}\n",
       "\n",
       "/* Estimator-specific style */\n",
       "\n",
       "/* Colorize estimator box */\n",
       "#sk-container-id-1 div.sk-estimator input.sk-toggleable__control:checked~label.sk-toggleable__label {\n",
       "  /* unfitted */\n",
       "  background-color: var(--sklearn-color-unfitted-level-2);\n",
       "}\n",
       "\n",
       "#sk-container-id-1 div.sk-estimator.fitted input.sk-toggleable__control:checked~label.sk-toggleable__label {\n",
       "  /* fitted */\n",
       "  background-color: var(--sklearn-color-fitted-level-2);\n",
       "}\n",
       "\n",
       "#sk-container-id-1 div.sk-label label.sk-toggleable__label,\n",
       "#sk-container-id-1 div.sk-label label {\n",
       "  /* The background is the default theme color */\n",
       "  color: var(--sklearn-color-text-on-default-background);\n",
       "}\n",
       "\n",
       "/* On hover, darken the color of the background */\n",
       "#sk-container-id-1 div.sk-label:hover label.sk-toggleable__label {\n",
       "  color: var(--sklearn-color-text);\n",
       "  background-color: var(--sklearn-color-unfitted-level-2);\n",
       "}\n",
       "\n",
       "/* Label box, darken color on hover, fitted */\n",
       "#sk-container-id-1 div.sk-label.fitted:hover label.sk-toggleable__label.fitted {\n",
       "  color: var(--sklearn-color-text);\n",
       "  background-color: var(--sklearn-color-fitted-level-2);\n",
       "}\n",
       "\n",
       "/* Estimator label */\n",
       "\n",
       "#sk-container-id-1 div.sk-label label {\n",
       "  font-family: monospace;\n",
       "  font-weight: bold;\n",
       "  display: inline-block;\n",
       "  line-height: 1.2em;\n",
       "}\n",
       "\n",
       "#sk-container-id-1 div.sk-label-container {\n",
       "  text-align: center;\n",
       "}\n",
       "\n",
       "/* Estimator-specific */\n",
       "#sk-container-id-1 div.sk-estimator {\n",
       "  font-family: monospace;\n",
       "  border: 1px dotted var(--sklearn-color-border-box);\n",
       "  border-radius: 0.25em;\n",
       "  box-sizing: border-box;\n",
       "  margin-bottom: 0.5em;\n",
       "  /* unfitted */\n",
       "  background-color: var(--sklearn-color-unfitted-level-0);\n",
       "}\n",
       "\n",
       "#sk-container-id-1 div.sk-estimator.fitted {\n",
       "  /* fitted */\n",
       "  background-color: var(--sklearn-color-fitted-level-0);\n",
       "}\n",
       "\n",
       "/* on hover */\n",
       "#sk-container-id-1 div.sk-estimator:hover {\n",
       "  /* unfitted */\n",
       "  background-color: var(--sklearn-color-unfitted-level-2);\n",
       "}\n",
       "\n",
       "#sk-container-id-1 div.sk-estimator.fitted:hover {\n",
       "  /* fitted */\n",
       "  background-color: var(--sklearn-color-fitted-level-2);\n",
       "}\n",
       "\n",
       "/* Specification for estimator info (e.g. \"i\" and \"?\") */\n",
       "\n",
       "/* Common style for \"i\" and \"?\" */\n",
       "\n",
       ".sk-estimator-doc-link,\n",
       "a:link.sk-estimator-doc-link,\n",
       "a:visited.sk-estimator-doc-link {\n",
       "  float: right;\n",
       "  font-size: smaller;\n",
       "  line-height: 1em;\n",
       "  font-family: monospace;\n",
       "  background-color: var(--sklearn-color-background);\n",
       "  border-radius: 1em;\n",
       "  height: 1em;\n",
       "  width: 1em;\n",
       "  text-decoration: none !important;\n",
       "  margin-left: 1ex;\n",
       "  /* unfitted */\n",
       "  border: var(--sklearn-color-unfitted-level-1) 1pt solid;\n",
       "  color: var(--sklearn-color-unfitted-level-1);\n",
       "}\n",
       "\n",
       ".sk-estimator-doc-link.fitted,\n",
       "a:link.sk-estimator-doc-link.fitted,\n",
       "a:visited.sk-estimator-doc-link.fitted {\n",
       "  /* fitted */\n",
       "  border: var(--sklearn-color-fitted-level-1) 1pt solid;\n",
       "  color: var(--sklearn-color-fitted-level-1);\n",
       "}\n",
       "\n",
       "/* On hover */\n",
       "div.sk-estimator:hover .sk-estimator-doc-link:hover,\n",
       ".sk-estimator-doc-link:hover,\n",
       "div.sk-label-container:hover .sk-estimator-doc-link:hover,\n",
       ".sk-estimator-doc-link:hover {\n",
       "  /* unfitted */\n",
       "  background-color: var(--sklearn-color-unfitted-level-3);\n",
       "  color: var(--sklearn-color-background);\n",
       "  text-decoration: none;\n",
       "}\n",
       "\n",
       "div.sk-estimator.fitted:hover .sk-estimator-doc-link.fitted:hover,\n",
       ".sk-estimator-doc-link.fitted:hover,\n",
       "div.sk-label-container:hover .sk-estimator-doc-link.fitted:hover,\n",
       ".sk-estimator-doc-link.fitted:hover {\n",
       "  /* fitted */\n",
       "  background-color: var(--sklearn-color-fitted-level-3);\n",
       "  color: var(--sklearn-color-background);\n",
       "  text-decoration: none;\n",
       "}\n",
       "\n",
       "/* Span, style for the box shown on hovering the info icon */\n",
       ".sk-estimator-doc-link span {\n",
       "  display: none;\n",
       "  z-index: 9999;\n",
       "  position: relative;\n",
       "  font-weight: normal;\n",
       "  right: .2ex;\n",
       "  padding: .5ex;\n",
       "  margin: .5ex;\n",
       "  width: min-content;\n",
       "  min-width: 20ex;\n",
       "  max-width: 50ex;\n",
       "  color: var(--sklearn-color-text);\n",
       "  box-shadow: 2pt 2pt 4pt #999;\n",
       "  /* unfitted */\n",
       "  background: var(--sklearn-color-unfitted-level-0);\n",
       "  border: .5pt solid var(--sklearn-color-unfitted-level-3);\n",
       "}\n",
       "\n",
       ".sk-estimator-doc-link.fitted span {\n",
       "  /* fitted */\n",
       "  background: var(--sklearn-color-fitted-level-0);\n",
       "  border: var(--sklearn-color-fitted-level-3);\n",
       "}\n",
       "\n",
       ".sk-estimator-doc-link:hover span {\n",
       "  display: block;\n",
       "}\n",
       "\n",
       "/* \"?\"-specific style due to the `<a>` HTML tag */\n",
       "\n",
       "#sk-container-id-1 a.estimator_doc_link {\n",
       "  float: right;\n",
       "  font-size: 1rem;\n",
       "  line-height: 1em;\n",
       "  font-family: monospace;\n",
       "  background-color: var(--sklearn-color-background);\n",
       "  border-radius: 1rem;\n",
       "  height: 1rem;\n",
       "  width: 1rem;\n",
       "  text-decoration: none;\n",
       "  /* unfitted */\n",
       "  color: var(--sklearn-color-unfitted-level-1);\n",
       "  border: var(--sklearn-color-unfitted-level-1) 1pt solid;\n",
       "}\n",
       "\n",
       "#sk-container-id-1 a.estimator_doc_link.fitted {\n",
       "  /* fitted */\n",
       "  border: var(--sklearn-color-fitted-level-1) 1pt solid;\n",
       "  color: var(--sklearn-color-fitted-level-1);\n",
       "}\n",
       "\n",
       "/* On hover */\n",
       "#sk-container-id-1 a.estimator_doc_link:hover {\n",
       "  /* unfitted */\n",
       "  background-color: var(--sklearn-color-unfitted-level-3);\n",
       "  color: var(--sklearn-color-background);\n",
       "  text-decoration: none;\n",
       "}\n",
       "\n",
       "#sk-container-id-1 a.estimator_doc_link.fitted:hover {\n",
       "  /* fitted */\n",
       "  background-color: var(--sklearn-color-fitted-level-3);\n",
       "}\n",
       "</style><div id=\"sk-container-id-1\" class=\"sk-top-container\"><div class=\"sk-text-repr-fallback\"><pre>LogisticRegression(max_iter=1000)</pre><b>In a Jupyter environment, please rerun this cell to show the HTML representation or trust the notebook. <br />On GitHub, the HTML representation is unable to render, please try loading this page with nbviewer.org.</b></div><div class=\"sk-container\" hidden><div class=\"sk-item\"><div class=\"sk-estimator fitted sk-toggleable\"><input class=\"sk-toggleable__control sk-hidden--visually\" id=\"sk-estimator-id-1\" type=\"checkbox\" checked><label for=\"sk-estimator-id-1\" class=\"sk-toggleable__label fitted sk-toggleable__label-arrow fitted\">&nbsp;&nbsp;LogisticRegression<a class=\"sk-estimator-doc-link fitted\" rel=\"noreferrer\" target=\"_blank\" href=\"https://scikit-learn.org/1.5/modules/generated/sklearn.linear_model.LogisticRegression.html\">?<span>Documentation for LogisticRegression</span></a><span class=\"sk-estimator-doc-link fitted\">i<span>Fitted</span></span></label><div class=\"sk-toggleable__content fitted\"><pre>LogisticRegression(max_iter=1000)</pre></div> </div></div></div></div>"
      ],
      "text/plain": [
       "LogisticRegression(max_iter=1000)"
      ]
     },
     "execution_count": 18,
     "metadata": {},
     "output_type": "execute_result"
    }
   ],
   "source": [
    "#treina o modelo utilizando regressão logística\n",
    "modelo = LogisticRegression(solver='lbfgs', max_iter=1000) #1000 padrao\n",
    "modelo.fit(X_train_pca, y_train)"
   ]
  },
  {
   "cell_type": "code",
   "execution_count": 19,
   "id": "ba7eba8b-4a0d-4658-b734-6d96c41c8f65",
   "metadata": {},
   "outputs": [
    {
     "name": "stdout",
     "output_type": "stream",
     "text": [
      "Relatório de Classificação:\n",
      "                   precision    recall  f1-score   support\n",
      "\n",
      "    0-12_infantil       0.83      0.82      0.83       853\n",
      "13-17_adolescente       0.28      0.08      0.12       205\n",
      "     18-64_adulto       0.83      0.92      0.87      2612\n",
      "        65+_idoso       0.68      0.51      0.58       487\n",
      "\n",
      "         accuracy                           0.81      4157\n",
      "        macro avg       0.65      0.58      0.60      4157\n",
      "     weighted avg       0.78      0.81      0.79      4157\n",
      "\n"
     ]
    }
   ],
   "source": [
    "#testando o modelo com os dados separados para teste\n",
    "y_pred = modelo.predict(X_test_pca)\n",
    "print(\"Relatório de Classificação:\")\n",
    "print(classification_report(y_test, y_pred, target_names=CATEGORIAS.keys()))"
   ]
  },
  {
   "cell_type": "code",
   "execution_count": 20,
   "id": "9ecdb3b5-438d-473d-9292-f6c64e6519b9",
   "metadata": {},
   "outputs": [
    {
     "name": "stdout",
     "output_type": "stream",
     "text": [
      "[[ 702   19  126    6]\n",
      " [  38   16  149    2]\n",
      " [  93   19 2390  110]\n",
      " [  11    4  225  247]]\n"
     ]
    }
   ],
   "source": [
    "#mostra a matriz de confusão\n",
    "print(confusion_matrix(y_test, y_pred))"
   ]
  },
  {
   "cell_type": "code",
   "execution_count": 23,
   "id": "00bbe27e-ced0-4776-97ab-e5c24b32e386",
   "metadata": {},
   "outputs": [
    {
     "name": "stdout",
     "output_type": "stream",
     "text": [
      "0.8070724079865288\n"
     ]
    }
   ],
   "source": [
    "#Precisão geral do método\n",
    "print(accuracy_score(y_test, y_pred))"
   ]
  },
  {
   "cell_type": "code",
   "execution_count": 24,
   "id": "0aa38b78-bee8-4280-9744-0474e17ac1b3",
   "metadata": {},
   "outputs": [],
   "source": [
    "#Predição de uma nova imagem\n",
    "def prever_imagem(caminho_imagem, modelo, pca, img_size):\n",
    "    img = realca_borda(cv2.imread(caminho_imagem), img_size) #Image.open(caminho_imagem).convert('L').resize(img_size)\n",
    "    mostra_imagem(img)\n",
    "    img_vetor = np.array(img).flatten().reshape(1, -1)\n",
    "    img_vetor = img_vetor / 255.0\n",
    "    img_pca = pca.transform(img_vetor)\n",
    "    reconstroi_imagem(img_pca, autovetores, img_size)\n",
    "    predicao = modelo.predict(img_pca)[0]\n",
    "    for categoria, label in CATEGORIAS.items():\n",
    "        if label == predicao:\n",
    "            return categoria"
   ]
  },
  {
   "cell_type": "code",
   "execution_count": 69,
   "id": "3707d128-275d-464e-85a0-2726154552dc",
   "metadata": {},
   "outputs": [
    {
     "data": {
      "image/png": "[encoded data removed]",
      "text/plain": [
       "<Figure size 640x480 with 1 Axes>"
      ]
     },
     "metadata": {},
     "output_type": "display_data"
    },
    {
     "data": {
      "image/png": "[encoded data removed]",
      "text/plain": [
       "<Figure size 640x480 with 1 Axes>"
      ]
     },
     "metadata": {},
     "output_type": "display_data"
    },
    {
     "name": "stdout",
     "output_type": "stream",
     "text": [
      "A imagem pertence à categoria: Idoso\n"
     ]
    }
   ],
   "source": [
    "#Resultados\n",
    "caminho_teste = \"testes/idoso1.png\"\n",
    "categoria_prevista = prever_imagem(caminho_teste, modelo, pca, IMG_SIZE)\n",
    "print(f\"A imagem pertence à categoria: {CATEGORIAS_RESUMIDAS[categoria_prevista]}\")"
   ]
  },
  {
   "cell_type": "code",
   "execution_count": null,
   "id": "914c4d24-2a2d-4bbd-a64e-ef732ec4bb50",
   "metadata": {},
   "outputs": [],
   "source": []
  }
 ],
 "metadata": {
  "kernelspec": {
   "display_name": "Python 3 (ipykernel)",
   "language": "python",
   "name": "python3"
  },
  "language_info": {
   "codemirror_mode": {
    "name": "ipython",
    "version": 3
   },
   "file_extension": ".py",
   "mimetype": "text/x-python",
   "name": "python",
   "nbconvert_exporter": "python",
   "pygments_lexer": "ipython3",
   "version": "3.11.9"
  }
 },
 "nbformat": 4,
 "nbformat_minor": 5
}
